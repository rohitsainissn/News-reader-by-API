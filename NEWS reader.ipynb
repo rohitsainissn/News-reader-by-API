{
 "cells": [
  {
   "cell_type": "code",
   "execution_count": 3,
   "id": "434d19b1",
   "metadata": {},
   "outputs": [
    {
     "name": "stdout",
     "output_type": "stream",
     "text": [
      "\"A Country Where...\": Sunil Gavaskar Slams Australia's 'Mind Games' Ahead Of Test Series - NDTV Sports \n",
      "\n",
      "\n",
      "Sunil Gavaskar has warned Australia against playing mind games ahead of the Test series against India. \n",
      "\n",
      "\n",
      "\"UPA Turned Every Opportunity To Crisis,\": PM Modi Sneers At Opposition - NDTV \n",
      "\n",
      "\n",
      "PM Narendra Modi attacks Congress: \"2004-2014 decade of scams and violence, UPA's trademark was to let every opportunity turn into crisis\" \n",
      "\n",
      "\n",
      "NASA reveals 2 instruments to measure earth-directed energy from sun - The Weekend Leader \n",
      "\n",
      "\n",
      "NASA has revealed two small instruments that will play a crucial role in powering big scientific insights by measuring and studying the Earth's directed energy from the Sun. \n",
      "\n",
      "\n"
     ]
    },
    {
     "ename": "KeyboardInterrupt",
     "evalue": "",
     "output_type": "error",
     "traceback": [
      "\u001b[0;31m---------------------------------------------------------------------------\u001b[0m",
      "\u001b[0;31mKeyboardInterrupt\u001b[0m                         Traceback (most recent call last)",
      "Cell \u001b[0;32mIn[3], line 37\u001b[0m\n\u001b[1;32m     35\u001b[0m news_description \u001b[38;5;241m=\u001b[39m (\u001b[38;5;28mstr\u001b[39m(new[\u001b[38;5;124m'\u001b[39m\u001b[38;5;124mdescription\u001b[39m\u001b[38;5;124m'\u001b[39m])) \n\u001b[1;32m     36\u001b[0m engine\u001b[38;5;241m.\u001b[39msay(news_description)\n\u001b[0;32m---> 37\u001b[0m \u001b[43mengine\u001b[49m\u001b[38;5;241;43m.\u001b[39;49m\u001b[43mrunAndWait\u001b[49m\u001b[43m(\u001b[49m\u001b[43m)\u001b[49m\n\u001b[1;32m     38\u001b[0m time\u001b[38;5;241m.\u001b[39msleep(\u001b[38;5;241m2\u001b[39m) \n",
      "File \u001b[0;32m/Library/Frameworks/Python.framework/Versions/3.9/lib/python3.9/site-packages/pyttsx3/engine.py:180\u001b[0m, in \u001b[0;36mEngine.runAndWait\u001b[0;34m(self)\u001b[0m\n\u001b[1;32m    178\u001b[0m \u001b[38;5;28mself\u001b[39m\u001b[38;5;241m.\u001b[39m_inLoop \u001b[38;5;241m=\u001b[39m \u001b[38;5;28;01mTrue\u001b[39;00m\n\u001b[1;32m    179\u001b[0m \u001b[38;5;28mself\u001b[39m\u001b[38;5;241m.\u001b[39m_driverLoop \u001b[38;5;241m=\u001b[39m \u001b[38;5;28;01mTrue\u001b[39;00m\n\u001b[0;32m--> 180\u001b[0m \u001b[38;5;28;43mself\u001b[39;49m\u001b[38;5;241;43m.\u001b[39;49m\u001b[43mproxy\u001b[49m\u001b[38;5;241;43m.\u001b[39;49m\u001b[43mrunAndWait\u001b[49m\u001b[43m(\u001b[49m\u001b[43m)\u001b[49m\n",
      "File \u001b[0;32m/Library/Frameworks/Python.framework/Versions/3.9/lib/python3.9/site-packages/pyttsx3/driver.py:192\u001b[0m, in \u001b[0;36mDriverProxy.runAndWait\u001b[0;34m(self)\u001b[0m\n\u001b[1;32m    187\u001b[0m \u001b[38;5;250m\u001b[39m\u001b[38;5;124;03m'''\u001b[39;00m\n\u001b[1;32m    188\u001b[0m \u001b[38;5;124;03mCalled by the engine to start an event loop, process all commands in\u001b[39;00m\n\u001b[1;32m    189\u001b[0m \u001b[38;5;124;03mthe queue at the start of the loop, and then exit the loop.\u001b[39;00m\n\u001b[1;32m    190\u001b[0m \u001b[38;5;124;03m'''\u001b[39;00m\n\u001b[1;32m    191\u001b[0m \u001b[38;5;28mself\u001b[39m\u001b[38;5;241m.\u001b[39m_push(\u001b[38;5;28mself\u001b[39m\u001b[38;5;241m.\u001b[39m_engine\u001b[38;5;241m.\u001b[39mendLoop, \u001b[38;5;28mtuple\u001b[39m())\n\u001b[0;32m--> 192\u001b[0m \u001b[38;5;28;43mself\u001b[39;49m\u001b[38;5;241;43m.\u001b[39;49m\u001b[43m_driver\u001b[49m\u001b[38;5;241;43m.\u001b[39;49m\u001b[43mstartLoop\u001b[49m\u001b[43m(\u001b[49m\u001b[43m)\u001b[49m\n",
      "File \u001b[0;32m/Library/Frameworks/Python.framework/Versions/3.9/lib/python3.9/site-packages/pyttsx3/drivers/nsss.py:35\u001b[0m, in \u001b[0;36mNSSpeechDriver.startLoop\u001b[0;34m(self)\u001b[0m\n\u001b[1;32m     32\u001b[0m \u001b[38;5;28;01mdef\u001b[39;00m \u001b[38;5;21mstartLoop\u001b[39m(\u001b[38;5;28mself\u001b[39m):\n\u001b[1;32m     33\u001b[0m     NSTimer\u001b[38;5;241m.\u001b[39mscheduledTimerWithTimeInterval_target_selector_userInfo_repeats_(\n\u001b[1;32m     34\u001b[0m         \u001b[38;5;241m0.0\u001b[39m, \u001b[38;5;28mself\u001b[39m, \u001b[38;5;124m'\u001b[39m\u001b[38;5;124monPumpFirst:\u001b[39m\u001b[38;5;124m'\u001b[39m, \u001b[38;5;28;01mNone\u001b[39;00m, \u001b[38;5;28;01mFalse\u001b[39;00m)\n\u001b[0;32m---> 35\u001b[0m     \u001b[43mAppHelper\u001b[49m\u001b[38;5;241;43m.\u001b[39;49m\u001b[43mrunConsoleEventLoop\u001b[49m\u001b[43m(\u001b[49m\u001b[43m)\u001b[49m\n",
      "File \u001b[0;32m/Library/Frameworks/Python.framework/Versions/3.9/lib/python3.9/site-packages/PyObjCTools/AppHelper.py:263\u001b[0m, in \u001b[0;36mrunConsoleEventLoop\u001b[0;34m(argv, installInterrupt, mode, maxTimeout)\u001b[0m\n\u001b[1;32m    261\u001b[0m         \u001b[38;5;28;01mif\u001b[39;00m nextfire \u001b[38;5;129;01mis\u001b[39;00m \u001b[38;5;129;01mnot\u001b[39;00m \u001b[38;5;28;01mNone\u001b[39;00m:\n\u001b[1;32m    262\u001b[0m             nextfire \u001b[38;5;241m=\u001b[39m soon\u001b[38;5;241m.\u001b[39mearlierDate_(nextfire)\n\u001b[0;32m--> 263\u001b[0m         \u001b[38;5;28;01mif\u001b[39;00m \u001b[38;5;129;01mnot\u001b[39;00m \u001b[43mrunLoop\u001b[49m\u001b[38;5;241;43m.\u001b[39;49m\u001b[43mrunMode_beforeDate_\u001b[49m\u001b[43m(\u001b[49m\u001b[43mmode\u001b[49m\u001b[43m,\u001b[49m\u001b[43m \u001b[49m\u001b[43mnextfire\u001b[49m\u001b[43m)\u001b[49m:\n\u001b[1;32m    264\u001b[0m             stopper\u001b[38;5;241m.\u001b[39mstop()\n\u001b[1;32m    266\u001b[0m \u001b[38;5;28;01mfinally\u001b[39;00m:\n",
      "\u001b[0;31mKeyboardInterrupt\u001b[0m: "
     ]
    }
   ],
   "source": [
    "import pyttsx3\n",
    "import requests \n",
    "import json \n",
    "import time \n",
    "import pyttsx3\n",
    "\n",
    "\n",
    "url = \"https://newsapi.org/v2/top-headlines?country=in&apiKey=0db0f20896494a56a328640cd20b17ed\"\n",
    "\n",
    "engine = pyttsx3.init()\n",
    "\n",
    "voices = engine.getProperty('voices')\n",
    "\n",
    "engine.setProperty('voice', voices[0].id)\n",
    "\n",
    "rate = engine.getProperty('rate')\n",
    "\n",
    "engine.setProperty('rate', 150)\n",
    "\n",
    "try: \n",
    "    response = requests.get(url) \n",
    "except: \n",
    "    engine.talk(\"can, t access link, plz check you internet \") \n",
    "\n",
    "news = json.loads(response.text) \n",
    "\n",
    "for new in news['articles']:\n",
    "    print(str(new['title']), \"\\n\\n\") \n",
    "    news_title = (str(new['title']))\n",
    "    engine.say(news_title)\n",
    "    engine.runAndWait()\n",
    "    \n",
    "    print(str(new['description']), \"\\n\\n\") \n",
    "    news_description = (str(new['description'])) \n",
    "    engine.say(news_description)\n",
    "    engine.runAndWait()\n",
    "    time.sleep(2) "
   ]
  },
  {
   "cell_type": "code",
   "execution_count": null,
   "id": "42b4738c",
   "metadata": {},
   "outputs": [],
   "source": [
    "\n"
   ]
  },
  {
   "cell_type": "code",
   "execution_count": null,
   "id": "19710361",
   "metadata": {},
   "outputs": [],
   "source": []
  }
 ],
 "metadata": {
  "kernelspec": {
   "display_name": "Python 3 (ipykernel)",
   "language": "python",
   "name": "python3"
  },
  "language_info": {
   "codemirror_mode": {
    "name": "ipython",
    "version": 3
   },
   "file_extension": ".py",
   "mimetype": "text/x-python",
   "name": "python",
   "nbconvert_exporter": "python",
   "pygments_lexer": "ipython3",
   "version": "3.9.9"
  }
 },
 "nbformat": 4,
 "nbformat_minor": 5
}
